{
 "cells": [
  {
   "cell_type": "markdown",
   "id": "e408d96b",
   "metadata": {},
   "source": [
    "**1. Load Documents**"
   ]
  },
  {
   "cell_type": "code",
   "execution_count": 2,
   "id": "8be4e5c1",
   "metadata": {},
   "outputs": [],
   "source": [
    "from langchain.document_loaders import PyPDFLoader, WebBaseLoader\n",
    "\n",
    "# # --- 1️⃣ Load Multiple PDFs ---\n",
    "# pdf_files = [\n",
    "#     \"WHO_BP_guidelines.pdf\",\n",
    "#     \"Diabetes_guidelines.pdf\",\n",
    "#     \"Cholesterol_guidelines.pdf\",\n",
    "#     \"BMI_guidelines.pdf\",\n",
    "#     \"Smoking_guidelines.pdf\"\n",
    "# ]\n",
    "\n",
    "# pdf_docs = []\n",
    "# for file in pdf_files:\n",
    "#     loader = PyPDFLoader(file)\n",
    "#     pdf_docs.extend(loader.load())\n",
    "\n",
    "# --- 2️⃣ Load Multiple Websites ---\n",
    "web_pages = [\n",
    "    \"https://www.who.int/news-room/fact-sheets/detail/hypertension\",\n",
    "    \"https://www.who.int/news-room/fact-sheets/detail/diabetes\",\n",
    "    \"https://www.who.int/news-room/fact-sheets/detail/obesity\",\n",
    "    \"https://www.cdc.gov/cholesterol/facts.html\",\n",
    "    \"https://www.cdc.gov/tobacco/data_statistics/fact_sheets/index.htm\"\n",
    "]\n",
    "\n",
    "web_docs = []\n",
    "for url in web_pages:\n",
    "    loader = WebBaseLoader(url)\n",
    "    web_docs.extend(loader.load())\n",
    "\n",
    "# --- 3️⃣ Combine all docs and split into chunks ---\n",
    "all_docs = web_docs\n"
   ]
  },
  {
   "cell_type": "markdown",
   "id": "cec345a3",
   "metadata": {},
   "source": [
    "**2. Split Text into Chunks**"
   ]
  },
  {
   "cell_type": "code",
   "execution_count": 6,
   "id": "0aafcddc",
   "metadata": {},
   "outputs": [],
   "source": [
    "from langchain.text_splitter import RecursiveCharacterTextSplitter\n",
    "\n",
    "text_splitter = RecursiveCharacterTextSplitter(chunk_size=500, chunk_overlap=50)\n",
    "web_chunks = text_splitter.split_documents(all_docs)\n"
   ]
  },
  {
   "cell_type": "markdown",
   "id": "914693ad",
   "metadata": {},
   "source": [
    "**3. Create Vector DB**"
   ]
  },
  {
   "cell_type": "code",
   "execution_count": 7,
   "id": "bacd358b",
   "metadata": {},
   "outputs": [
    {
     "name": "stderr",
     "output_type": "stream",
     "text": [
      "'(ReadTimeoutError(\"HTTPSConnectionPool(host='huggingface.co', port=443): Read timed out. (read timeout=10)\"), '(Request ID: 609eb158-e434-4044-9543-9856dfee3bfe)')' thrown while requesting HEAD https://huggingface.co/sentence-transformers/all-MiniLM-L6-v2/resolve/main/./config_sentence_transformers.json\n",
      "Retrying in 1s [Retry 1/5].\n"
     ]
    },
    {
     "name": "stdout",
     "output_type": "stream",
     "text": [
      "✅ Vector DB created successfully\n"
     ]
    },
    {
     "name": "stderr",
     "output_type": "stream",
     "text": [
      "C:\\Users\\Adnan\\AppData\\Local\\Temp\\ipykernel_14220\\4008823063.py:13: LangChainDeprecationWarning: Since Chroma 0.4.x the manual persistence method is no longer supported as docs are automatically persisted.\n",
      "  vectordb.persist()\n"
     ]
    }
   ],
   "source": [
    "from langchain_community.vectorstores import Chroma\n",
    "from langchain.embeddings import HuggingFaceEmbeddings\n",
    "\n",
    "embeddings = HuggingFaceEmbeddings(model_name=\"sentence-transformers/all-MiniLM-L6-v2\")\n",
    "\n",
    "# Use 'embedding' instead of 'embedding_function'\n",
    "vectordb = Chroma.from_documents(\n",
    "    web_chunks,\n",
    "    embedding=embeddings,        # Correct parameter name\n",
    "    persist_directory=\"rag_db\"\n",
    ")\n",
    "\n",
    "vectordb.persist()\n",
    "print(\"✅ Vector DB created successfully\")\n"
   ]
  },
  {
   "cell_type": "markdown",
   "id": "b159f89a",
   "metadata": {},
   "source": [
    "**4. Query RAG with Input Vitals + Prediction**"
   ]
  },
  {
   "cell_type": "code",
   "execution_count": 8,
   "id": "5083c1d8",
   "metadata": {},
   "outputs": [
    {
     "name": "stdout",
     "output_type": "stream",
     "text": [
      "in the vessels when the heart rests between beats.Hypertension is diagnosed if, when it is measured on two different days, the systolic blood pressure readings on both days is ≥140 mmHg and/or the diastolic blood pressure readings on both days is ≥90 mmHg.Risk factorsModifiable risk factors include unhealthy diets (excessive salt consumption, a diet high in saturated fat and trans fats, low intake of fruits and vegetables), physical inactivity, consumption of tobacco and alcohol, and being\n",
      "professional.Keep appointments with your health care professional.Don’t:eat too much salty food (try to stay under 2 grams per day)eat foods high in saturated or trans fatssmoke or use tobaccodrink too much alcohol (1 drink daily max for women, 2 for men)miss or share medication.Reducing hypertension prevents heart attack, stroke and kidney damage, as well as other health problems. Reduce the risks of hypertension by: reducing and managing stressregularly checking blood pressuretreating high\n",
      "uncontrolled hypertension by 25% between 2010 and 2025.OverviewHypertension (high blood pressure) is when the pressure in your blood vessels is too high (140/90 mmHg or higher). It is common but can be serious if not treated.People with high blood pressure may not feel symptoms. The only way to know is to get your blood pressure checked.Things that increase the risk of having high blood pressure include:older age geneticsbeing overweight or obesenot being physically active high-salt\n",
      "Key factsAn estimated 1.4 billion adults aged 30–79\n",
      "            years worldwide had hypertension in 2024; this represents 33% of the popluation in this age range.Two-thirds of adults aged 30–79 years who have hypertension live in low- and\n",
      "consumption of tobacco and alcohol, and being overweight or obese. In addition, there are environmental risk factors for hypertension and associated diseases, where air pollution is the most significant.  Non-modifiable risk factors include a family history of hypertension, age over 65 years and co-existing diseases such as diabetes or kidney disease.SymptomsMost people with hypertension don’t feel any symptoms. Very high blood pressures can cause headaches, blurred vision, chest pain and other\n"
     ]
    },
    {
     "name": "stderr",
     "output_type": "stream",
     "text": [
      "C:\\Users\\Adnan\\AppData\\Local\\Temp\\ipykernel_14220\\2191167870.py:3: LangChainDeprecationWarning: The method `BaseRetriever.get_relevant_documents` was deprecated in langchain-core 0.1.46 and will be removed in 1.0. Use :meth:`~invoke` instead.\n",
      "  relevant_docs = retriever.get_relevant_documents(query)\n"
     ]
    }
   ],
   "source": [
    "retriever = vectordb.as_retriever(search_kwargs={\"k\": 5})\n",
    "query = \"BP=150/95, Chol=220, BMI=32, Prediction: High risk\"\n",
    "relevant_docs = retriever.get_relevant_documents(query)\n",
    "\n",
    "for doc in relevant_docs:\n",
    "    print(doc.page_content)\n"
   ]
  },
  {
   "cell_type": "code",
   "execution_count": null,
   "id": "32185614",
   "metadata": {},
   "outputs": [
    {
     "name": "stderr",
     "output_type": "stream",
     "text": [
      "C:\\Users\\Adnan\\AppData\\Local\\Temp\\ipykernel_14220\\2573734873.py:24: LangChainDeprecationWarning: The method `Chain.__call__` was deprecated in langchain 0.1.0 and will be removed in 1.0. Use :meth:`~invoke` instead.\n",
      "  result = qa_chain(query)\n"
     ]
    },
    {
     "name": "stdout",
     "output_type": "stream",
     "text": [
      "=== Diagnosis Explanation ===\n",
      "{'query': '\\nPatient vitals: BP=150/95, Cholesterol=220, BMI=32, Smoker=yes, Diabetic=no.\\nPredicted risk: High.\\nPlease provide:\\n1. Explanation of the risk\\n2. Possible diagnosis\\n3. Suggested actions or next steps\\n', 'result': \"**1. Explanation of the risk:**\\nBased on the provided patient vitals, the patient has a high predicted risk of cardiovascular disease. The risk factors contributing to this high risk are:\\n\\n- Elevated systolic blood pressure (150 mmHg) and diastolic blood pressure (95 mmHg), indicating hypertension.\\n- High cholesterol level (220), which is a significant risk factor for cardiovascular disease.\\n- Elevated BMI (32), indicating obesity, which is a risk factor for various health conditions, including cardiovascular disease and type 2 diabetes.\\n- The patient is a smoker, which is a major risk factor for cardiovascular disease.\\n\\n**2. Possible diagnosis:**\\nGiven the patient's high blood pressure, high cholesterol, and obesity, the possible diagnosis could be:\\n\\n- Hypertension (high blood pressure)\\n- Hyperlipidemia (high cholesterol)\\n- Obesity\\n- Cardiovascular disease (e.g., coronary artery disease, heart failure)\\n\\n**3. Suggested actions or next steps:**\\n\\n- **Immediate action:**\\n  - The patient should stop smoking immediately to reduce their risk of cardiovascular disease.\\n  - The patient should schedule an appointment with their healthcare provider to discuss their high blood pressure and high cholesterol levels.\\n\\n- **Short-term actions:**\\n  - The patient should work with their healthcare provider to develop a plan to lower their blood pressure and cholesterol levels, which may include lifestyle changes (e.g., diet, exercise) and medication.\\n  - The patient should aim to lose weight and maintain a healthy weight to reduce their risk of cardiovascular disease.\\n  - The patient should schedule regular follow-up appointments with their healthcare provider to monitor their progress and adjust their treatment plan as needed.\\n\\n- **Long-term actions:**\\n  - The patient should work with their healthcare provider to develop a plan to manage their hypertension and hyperlipidemia, which may include regular monitoring of their blood pressure and cholesterol levels, as well as medication and lifestyle changes.\\n  - The patient should aim to maintain a healthy lifestyle, including a balanced diet, regular exercise, and stress management, to reduce their risk of cardiovascular disease.\", 'source_documents': [Document(metadata={'source': 'https://www.who.int/news-room/fact-sheets/detail/hypertension', 'title': '\\r\\n\\tHypertension\\r\\n', 'language': 'en', 'description': \"WHO fact sheet on hypertension including information on prevalence, risk factors, symptoms, prevention, treatment and WHO's work in this area. \"}, page_content='in the vessels when the heart rests between beats.Hypertension is diagnosed if, when it is measured on two different days, the systolic blood pressure readings on both days is ≥140 mmHg and/or the diastolic blood pressure readings on both days is ≥90 mmHg.Risk factorsModifiable risk factors include unhealthy diets (excessive salt consumption, a diet high in saturated fat and trans fats, low intake of fruits and vegetables), physical inactivity, consumption of tobacco and alcohol, and being'), Document(metadata={'source': 'https://www.who.int/news-room/fact-sheets/detail/hypertension', 'description': \"WHO fact sheet on hypertension including information on prevalence, risk factors, symptoms, prevention, treatment and WHO's work in this area. \", 'language': 'en', 'title': '\\r\\n\\tHypertension\\r\\n'}, page_content='consumption of tobacco and alcohol, and being overweight or obese. In addition, there are environmental risk factors for hypertension and associated diseases, where air pollution is the most significant.\\xa0 Non-modifiable risk factors include a family history of hypertension, age over 65 years and co-existing diseases such as diabetes or kidney disease.SymptomsMost people with hypertension don’t feel any symptoms. Very high blood pressures can cause\\xa0headaches, blurred vision, chest pain and other'), Document(metadata={'source': 'https://www.who.int/news-room/fact-sheets/detail/diabetes', 'description': 'Diabetes factsheet from WHO providing key facts and information on types of diabetes, symptoms, common consequences, economic impact, diagnosis and treatment, WHO response. ', 'language': 'en', 'title': '\\r\\n\\tDiabetes\\r\\n'}, page_content='530 000 kidney disease deaths were caused by diabetes, and high blood glucose causes around 11% of cardiovascular deaths (1).Since 2000, mortality rates from diabetes have been increasing. By contrast, the probability of dying from any one of the four main noncommunicable diseases (cardiovascular diseases, cancer, chronic respiratory diseases or diabetes) between the ages of 30 and 70 decreased by 20% globally between 2000 and 2019.'), Document(metadata={'source': 'https://www.who.int/news-room/fact-sheets/detail/hypertension', 'description': \"WHO fact sheet on hypertension including information on prevalence, risk factors, symptoms, prevention, treatment and WHO's work in this area. \", 'title': '\\r\\n\\tHypertension\\r\\n', 'language': 'en'}, page_content='professional.Keep appointments with your health care professional.Don’t:eat too much salty food (try to stay under 2 grams per day)eat foods high in saturated or trans fatssmoke or use tobaccodrink too much alcohol (1 drink daily max for women, 2 for men)miss or share medication.Reducing hypertension prevents heart attack, stroke and kidney damage, as well as other health problems. Reduce the risks of hypertension by: reducing and managing stressregularly checking blood pressuretreating high'), Document(metadata={'title': '\\r\\n\\tDiabetes\\r\\n', 'source': 'https://www.who.int/news-room/fact-sheets/detail/diabetes', 'description': 'Diabetes factsheet from WHO providing key facts and information on types of diabetes, symptoms, common consequences, economic impact, diagnosis and treatment, WHO response. ', 'language': 'en'}, page_content='and lower limb amputation.In 2021, diabetes and kidney disease due to diabetes caused over 2 million deaths. In addition, around 11% of cardiovascular deaths were caused by high blood glucose.A healthy diet, regular physical activity, maintaining a normal body weight and avoiding tobacco use are ways to prevent or delay the onset of type 2 diabetes.Diabetes can be treated and its consequences avoided or delayed with diet, physical activity, medication and regular screening and treatment for')]}\n"
     ]
    }
   ],
   "source": [
    "from langchain_groq import ChatGroq\n",
    "from langchain.chains import RetrievalQA\n",
    "import os\n",
    "\n",
    "groq = ChatGroq(groq_api_key=os.getenv(\"GROQ_API_KEY\"), model=\"llama-3.1-8b-instant\", temperature=0.3)\n",
    "\n",
    "# RetrievalQA chain: LLM + RAG\n",
    "qa_chain = RetrievalQA.from_chain_type(\n",
    "    llm=groq,\n",
    "    chain_type=\"stuff\",  # combines all retrieved chunks\n",
    "    retriever=retriever, # your vectordb retriever\n",
    "    return_source_documents=True\n",
    ")\n",
    "\n",
    "# Query includes vitals + prediction\n",
    "query = \"\"\"\n",
    "Patient vitals: BP=150/95, Cholesterol=220, BMI=32, Smoker=yes, Diabetic=no.\n",
    "Predicted risk: High.\n",
    "Please provide:\n",
    "1. Explanation of the risk\n",
    "2. Possible diagnosis\n",
    "3. Suggested actions or next steps\n",
    "\"\"\"\n",
    "result = qa_chain(query)\n",
    "\n",
    "print(\"=== Diagnosis Explanation ===\")\n",
    "print(result)\n"
   ]
  },
  {
   "cell_type": "code",
   "execution_count": null,
   "id": "e1e013ad",
   "metadata": {},
   "outputs": [],
   "source": []
  }
 ],
 "metadata": {
  "kernelspec": {
   "display_name": "Python 3",
   "language": "python",
   "name": "python3"
  },
  "language_info": {
   "codemirror_mode": {
    "name": "ipython",
    "version": 3
   },
   "file_extension": ".py",
   "mimetype": "text/x-python",
   "name": "python",
   "nbconvert_exporter": "python",
   "pygments_lexer": "ipython3",
   "version": "3.13.2"
  }
 },
 "nbformat": 4,
 "nbformat_minor": 5
}
